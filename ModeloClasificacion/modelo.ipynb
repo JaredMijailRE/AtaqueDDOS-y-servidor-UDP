{
 "cells": [
  {
   "cell_type": "markdown",
   "id": "f1fc7226",
   "metadata": {},
   "source": [
    "# Clasificación de tráfico según client_type\n",
    "\n",
    "Este notebook entrena un modelo de clasificación utilizando la columna `client_type` como etiqueta, a partir de los datos en `resultados.csv`. Se utilizarán pandas, scikit-learn y matplotlib."
   ]
  },
  {
   "cell_type": "code",
   "execution_count": 1,
   "id": "04bf17ec",
   "metadata": {},
   "outputs": [],
   "source": [
    "import pandas as pd\n",
    "import numpy as np\n",
    "import matplotlib.pyplot as plt\n",
    "from sklearn.model_selection import train_test_split\n",
    "from sklearn.ensemble import RandomForestClassifier\n",
    "from sklearn.metrics import classification_report, confusion_matrix"
   ]
  },
  {
   "cell_type": "code",
   "execution_count": 2,
   "id": "3d3e3393",
   "metadata": {},
   "outputs": [
    {
     "data": {
      "text/html": [
       "<div>\n",
       "<style scoped>\n",
       "    .dataframe tbody tr th:only-of-type {\n",
       "        vertical-align: middle;\n",
       "    }\n",
       "\n",
       "    .dataframe tbody tr th {\n",
       "        vertical-align: top;\n",
       "    }\n",
       "\n",
       "    .dataframe thead th {\n",
       "        text-align: right;\n",
       "    }\n",
       "</style>\n",
       "<table border=\"1\" class=\"dataframe\">\n",
       "  <thead>\n",
       "    <tr style=\"text-align: right;\">\n",
       "      <th></th>\n",
       "      <th>timestamp</th>\n",
       "      <th>id</th>\n",
       "      <th>success</th>\n",
       "      <th>client_type</th>\n",
       "      <th>target_addr</th>\n",
       "      <th>domain</th>\n",
       "      <th>latency_ms</th>\n",
       "    </tr>\n",
       "  </thead>\n",
       "  <tbody>\n",
       "    <tr>\n",
       "      <th>0</th>\n",
       "      <td>2025-06-26T22:44:57.577614538Z</td>\n",
       "      <td>124</td>\n",
       "      <td>false</td>\n",
       "      <td>malicioso</td>\n",
       "      <td>dns_udp:53</td>\n",
       "      <td>example.com.</td>\n",
       "      <td>11</td>\n",
       "    </tr>\n",
       "    <tr>\n",
       "      <th>1</th>\n",
       "      <td>2025-06-26T22:44:57.579061291Z</td>\n",
       "      <td>27</td>\n",
       "      <td>false</td>\n",
       "      <td>malicioso</td>\n",
       "      <td>dns_udp:53</td>\n",
       "      <td>example.com.</td>\n",
       "      <td>12</td>\n",
       "    </tr>\n",
       "    <tr>\n",
       "      <th>2</th>\n",
       "      <td>timestamp</td>\n",
       "      <td>id</td>\n",
       "      <td>success</td>\n",
       "      <td>client_type</td>\n",
       "      <td>target_addr</td>\n",
       "      <td>domain</td>\n",
       "      <td>latency_ms</td>\n",
       "    </tr>\n",
       "    <tr>\n",
       "      <th>3</th>\n",
       "      <td>2025-06-26T22:44:57.600503484Z</td>\n",
       "      <td>123</td>\n",
       "      <td>false</td>\n",
       "      <td>malicioso</td>\n",
       "      <td>dns_udp:53</td>\n",
       "      <td>example.com.</td>\n",
       "      <td>35</td>\n",
       "    </tr>\n",
       "    <tr>\n",
       "      <th>4</th>\n",
       "      <td>timestamp</td>\n",
       "      <td>id</td>\n",
       "      <td>success</td>\n",
       "      <td>client_type</td>\n",
       "      <td>target_addr</td>\n",
       "      <td>domain</td>\n",
       "      <td>latency_ms</td>\n",
       "    </tr>\n",
       "  </tbody>\n",
       "</table>\n",
       "</div>"
      ],
      "text/plain": [
       "                        timestamp   id  success  client_type  target_addr  \\\n",
       "0  2025-06-26T22:44:57.577614538Z  124    false    malicioso   dns_udp:53   \n",
       "1  2025-06-26T22:44:57.579061291Z   27    false    malicioso   dns_udp:53   \n",
       "2                       timestamp   id  success  client_type  target_addr   \n",
       "3  2025-06-26T22:44:57.600503484Z  123    false    malicioso   dns_udp:53   \n",
       "4                       timestamp   id  success  client_type  target_addr   \n",
       "\n",
       "         domain  latency_ms  \n",
       "0  example.com.          11  \n",
       "1  example.com.          12  \n",
       "2        domain  latency_ms  \n",
       "3  example.com.          35  \n",
       "4        domain  latency_ms  "
      ]
     },
     "execution_count": 2,
     "metadata": {},
     "output_type": "execute_result"
    }
   ],
   "source": [
    "# Cargar los datos\n",
    "ruta_csv = '../resultados/resultados.csv'\n",
    "df = pd.read_csv(ruta_csv)\n",
    "df.head()"
   ]
  },
  {
   "cell_type": "code",
   "execution_count": 3,
   "id": "83166549",
   "metadata": {},
   "outputs": [
    {
     "data": {
      "text/html": [
       "<div>\n",
       "<style scoped>\n",
       "    .dataframe tbody tr th:only-of-type {\n",
       "        vertical-align: middle;\n",
       "    }\n",
       "\n",
       "    .dataframe tbody tr th {\n",
       "        vertical-align: top;\n",
       "    }\n",
       "\n",
       "    .dataframe thead th {\n",
       "        text-align: right;\n",
       "    }\n",
       "</style>\n",
       "<table border=\"1\" class=\"dataframe\">\n",
       "  <thead>\n",
       "    <tr style=\"text-align: right;\">\n",
       "      <th></th>\n",
       "      <th>id</th>\n",
       "      <th>success</th>\n",
       "      <th>latency_ms</th>\n",
       "    </tr>\n",
       "  </thead>\n",
       "  <tbody>\n",
       "    <tr>\n",
       "      <th>0</th>\n",
       "      <td>124.0</td>\n",
       "      <td>0.0</td>\n",
       "      <td>11.0</td>\n",
       "    </tr>\n",
       "    <tr>\n",
       "      <th>1</th>\n",
       "      <td>27.0</td>\n",
       "      <td>0.0</td>\n",
       "      <td>12.0</td>\n",
       "    </tr>\n",
       "    <tr>\n",
       "      <th>2</th>\n",
       "      <td>0.0</td>\n",
       "      <td>0.0</td>\n",
       "      <td>0.0</td>\n",
       "    </tr>\n",
       "    <tr>\n",
       "      <th>3</th>\n",
       "      <td>123.0</td>\n",
       "      <td>0.0</td>\n",
       "      <td>35.0</td>\n",
       "    </tr>\n",
       "    <tr>\n",
       "      <th>4</th>\n",
       "      <td>0.0</td>\n",
       "      <td>0.0</td>\n",
       "      <td>0.0</td>\n",
       "    </tr>\n",
       "  </tbody>\n",
       "</table>\n",
       "</div>"
      ],
      "text/plain": [
       "      id  success  latency_ms\n",
       "0  124.0      0.0        11.0\n",
       "1   27.0      0.0        12.0\n",
       "2    0.0      0.0         0.0\n",
       "3  123.0      0.0        35.0\n",
       "4    0.0      0.0         0.0"
      ]
     },
     "execution_count": 3,
     "metadata": {},
     "output_type": "execute_result"
    }
   ],
   "source": [
    "# Preprocesamiento: eliminar columnas irrelevantes y convertir etiquetas\n",
    "X = df.drop(['client_type', 'timestamp', 'domain', 'target_addr'], axis=1)\n",
    "y = df['client_type']\n",
    "\n",
    "# Convertir etiquetas a valores numéricos\n",
    "y_encoded = y.astype('category').cat.codes\n",
    "X = X.apply(pd.to_numeric, errors='coerce')\n",
    "X = X.fillna(0)\n",
    "X.head()"
   ]
  },
  {
   "cell_type": "code",
   "execution_count": 4,
   "id": "e8015522",
   "metadata": {},
   "outputs": [
    {
     "name": "stdout",
     "output_type": "stream",
     "text": [
      "              precision    recall  f1-score   support\n",
      "\n",
      "           1       1.00      1.00      1.00      2005\n",
      "           2       0.93      0.96      0.95        56\n",
      "\n",
      "    accuracy                           1.00      2061\n",
      "   macro avg       0.97      0.98      0.97      2061\n",
      "weighted avg       1.00      1.00      1.00      2061\n",
      "\n",
      "[[2001    4]\n",
      " [   2   54]]\n"
     ]
    }
   ],
   "source": [
    "# División de datos y entrenamiento del modelo\n",
    "X_train, X_test, y_train, y_test = train_test_split(X, y_encoded, test_size=0.2, random_state=42)\n",
    "\n",
    "clf = RandomForestClassifier(n_estimators=100, random_state=42)\n",
    "clf.fit(X_train, y_train)\n",
    "\n",
    "# Predicción y métricas\n",
    "y_pred = clf.predict(X_test)\n",
    "print(classification_report(y_test, y_pred))\n",
    "print(confusion_matrix(y_test, y_pred))"
   ]
  },
  {
   "cell_type": "code",
   "execution_count": 5,
   "id": "0fd3b17d",
   "metadata": {},
   "outputs": [
    {
     "data": {
      "image/png": "[encoded data removed]",
      "text/plain": [
       "<Figure size 800x400 with 1 Axes>"
      ]
     },
     "metadata": {},
     "output_type": "display_data"
    }
   ],
   "source": [
    "# Visualización de la importancia de las características\n",
    "importances = clf.feature_importances_\n",
    "features = X.columns\n",
    "plt.figure(figsize=(8,4))\n",
    "plt.barh(features, importances)\n",
    "plt.xlabel('Importancia')\n",
    "plt.title('Importancia de las características')\n",
    "plt.show()"
   ]
  },
  {
   "cell_type": "markdown",
   "id": "1a3bd078",
   "metadata": {},
   "source": [
    "# Conclusiones del modelo de clasificación\n",
    "\n",
    "El modelo de clasificación basado en Random Forest ha permitido identificar patrones en el tráfico de red para predecir el tipo de cliente (`client_type`). A continuación se resumen las conclusiones principales:\n",
    "\n",
    "- **Precisión y desempeño:** El modelo muestra un buen desempeño según las métricas de clasificación y la matriz de confusión, lo que indica que es capaz de distinguir entre los diferentes tipos de clientes con una alta precisión.\n",
    "- **Importancia de características:** Algunas características del dataset tienen mayor relevancia para la predicción, como se observa en la gráfica de importancia. Esto puede guiar futuras optimizaciones o la selección de variables.\n",
    "- **Preprocesamiento:** El tratamiento de valores nulos y la conversión de etiquetas fueron pasos clave para asegurar la calidad de los datos y el correcto funcionamiento del modelo.\n",
    "- **Aplicabilidad:** Este enfoque puede ser útil para la detección automática de tipos de tráfico o clientes en sistemas de monitoreo de red, contribuyendo a la seguridad y gestión eficiente de recursos.\n",
    "\n",
    "Se recomienda explorar otros modelos y ajustar hiperparámetros para comparar resultados y mejorar aún más el desempeño si es necesario."
   ]
  }
 ],
 "metadata": {
  "kernelspec": {
   "display_name": ".venv",
   "language": "python",
   "name": "python3"
  },
  "language_info": {
   "codemirror_mode": {
    "name": "ipython",
    "version": 3
   },
   "file_extension": ".py",
   "mimetype": "text/x-python",
   "name": "python",
   "nbconvert_exporter": "python",
   "pygments_lexer": "ipython3",
   "version": "3.11.12"
  }
 },
 "nbformat": 4,
 "nbformat_minor": 5
}
